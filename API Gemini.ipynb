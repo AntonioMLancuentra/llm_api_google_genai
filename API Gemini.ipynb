{
 "cells": [
  {
   "cell_type": "code",
   "execution_count": 1,
   "id": "4679fd46",
   "metadata": {},
   "outputs": [],
   "source": [
    "import os\n",
    "from google import genai\n",
    "import time\n"
   ]
  },
  {
   "cell_type": "code",
   "execution_count": 2,
   "id": "2e384d0e",
   "metadata": {},
   "outputs": [],
   "source": [
    "api_key = os.getenv('GEMINI_API_KEY')\n",
    "client = genai.Client(api_key=api_key)"
   ]
  },
  {
   "cell_type": "code",
   "execution_count": 3,
   "id": "c871165d",
   "metadata": {},
   "outputs": [
    {
     "name": "stdout",
     "output_type": "stream",
     "text": [
      "AI learns from data to recognize patterns and make decisions.\n",
      "The query took:  4.0 seconds\n"
     ]
    }
   ],
   "source": [
    "start_time = time.time()\n",
    "# One query\n",
    "response = client.models.generate_content(\n",
    "    model=\"gemini-2.5-flash\", contents=\"Explain how AI works in a few words\"\n",
    ")\n",
    "print(response.text)\n",
    "\n",
    "end_time = time.time()\n",
    "Duration = end_time - start_time\n",
    "print(f'The query took: {Duration: .1f} seconds')"
   ]
  },
  {
   "cell_type": "code",
   "execution_count": null,
   "id": "cf63c74d",
   "metadata": {},
   "outputs": [
    {
     "name": "stdout",
     "output_type": "stream",
     "text": [
      "Learns from data to make smart decisions.\n",
      "Computers learn patterns from data to make predictions or decisions.\n",
      "Processing immense, varied data to uncover hidden patterns and insights for better decisions.\n",
      "You pay a monthly fee to stream movies and TV shows over the internet, on demand.\n",
      "They organize and sell a wide variety of groceries and household items for convenient customer self-service.\n",
      "The query took:  33.9 seconds, at an average of  6.8 seconds per query\n"
     ]
    }
   ],
   "source": [
    "start_time = time.time()\n",
    "# 5 API call with 5 queries\n",
    "response = client.models.generate_content(\n",
    "    model=\"gemini-2.5-flash\", contents=\"Explain how AI works in a few words\"\n",
    ")\n",
    "print(response.text)\n",
    "\n",
    "response = client.models.generate_content(\n",
    "    model=\"gemini-2.5-flash\", contents=\"Explain how ML works in a few words\"\n",
    ")\n",
    "print(response.text)\n",
    "\n",
    "response = client.models.generate_content(\n",
    "    model=\"gemini-2.5-flash\", contents=\"Explain how Big Data works in a few words\"\n",
    ")\n",
    "print(response.text)\n",
    "\n",
    "response = client.models.generate_content(\n",
    "    model=\"gemini-2.5-flash\", contents=\"Explain how Netfilx works in a few words\"\n",
    ")\n",
    "print(response.text)\n",
    "\n",
    "response = client.models.generate_content(\n",
    "    model=\"gemini-2.5-flash\", contents=\"Explain how a Supermarket or grocery store works in a few words\"\n",
    ")\n",
    "print(response.text)\n",
    "\n",
    "end_time = time.time()\n",
    "Duration = end_time - start_time\n",
    "print(f'\\nThe query took: {Duration: .1f} seconds, at an average of {Duration/5: .1f} seconds per query')"
   ]
  },
  {
   "cell_type": "code",
   "execution_count": null,
   "id": "e243800b",
   "metadata": {},
   "outputs": [
    {
     "name": "stdout",
     "output_type": "stream",
     "text": [
      "Here are the explanations in a few words:\n",
      "\n",
      "**AI (Artificial Intelligence):** Machines designed to think, learn, and solve problems like humans.\n",
      "\n",
      "**ML (Machine Learning):** Computers learning from data to recognize patterns and make predictions without explicit programming.\n",
      "\n",
      "**Big Data:** Massive, diverse datasets analyzed to uncover patterns, trends, and insights.\n",
      "\n",
      "**Netflix:** Subscription service streaming a vast library of movies and TV shows over the internet, personalized for each user.\n",
      "\n",
      "**Supermarket or grocery store:** Buys food and household goods in bulk, then sells them individually to customers for convenience and profit.\n",
      "The query took:  6.7 seconds\n"
     ]
    }
   ],
   "source": [
    "start_time = time.time()\n",
    "# 1 API call with 5 queries\n",
    "response = client.models.generate_content(\n",
    "    model=\"gemini-2.5-flash\", contents=[\n",
    "        \"Explain how AI works in a few words\", \n",
    "        \"Explain how ML works in a few words\",\n",
    "        \"Explain how Big Data works in a few words\",\n",
    "        \"Explain how Netfilx works in a few words\",\n",
    "        \"Explain how a Supermarket or grocery store works in a few words\"\n",
    "        ] \n",
    ")\n",
    "print(response.text)\n",
    "\n",
    "end_time = time.time()\n",
    "Duration = end_time - start_time\n",
    "print(f'\\nThe query took: {Duration: .1f} seconds, at an average of {Duration/5: .1f} seconds per query')"
   ]
  }
 ],
 "metadata": {
  "kernelspec": {
   "display_name": "llm",
   "language": "python",
   "name": "python3"
  },
  "language_info": {
   "codemirror_mode": {
    "name": "ipython",
    "version": 3
   },
   "file_extension": ".py",
   "mimetype": "text/x-python",
   "name": "python",
   "nbconvert_exporter": "python",
   "pygments_lexer": "ipython3",
   "version": "3.12.11"
  }
 },
 "nbformat": 4,
 "nbformat_minor": 5
}
